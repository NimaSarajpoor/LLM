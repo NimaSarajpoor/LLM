{
 "cells": [
  {
   "cell_type": "markdown",
   "id": "9627d7d6-e7b8-41e5-9ec9-99ab789b31d4",
   "metadata": {},
   "source": [
    "**NOTE:** The following information is based on the book \"Build Large Language Model From Scratch\" By Sebastian Raschka. I am just trying to take notes, explain some stuff further for myself when needed, and do some coding."
   ]
  },
  {
   "cell_type": "markdown",
   "id": "902ccc0a-fb13-4113-95cd-856c9fd7696e",
   "metadata": {},
   "source": [
    "The following figure from the book is really nice."
   ]
  },
  {
   "cell_type": "markdown",
   "id": "e540ad41-7712-4ebd-8899-1c63b2dd2ba3",
   "metadata": {},
   "source": [
    "![end-to-end-LLM](./images/end-to-end-LLM.png)"
   ]
  },
  {
   "cell_type": "markdown",
   "id": "2c90548a-bf73-4fea-9b83-6dc959784071",
   "metadata": {},
   "source": [
    "It shows the end-to-end process of creating a LLM-based model. "
   ]
  }
 ],
 "metadata": {
  "kernelspec": {
   "display_name": "Python 3 (ipykernel)",
   "language": "python",
   "name": "python3"
  },
  "language_info": {
   "codemirror_mode": {
    "name": "ipython",
    "version": 3
   },
   "file_extension": ".py",
   "mimetype": "text/x-python",
   "name": "python",
   "nbconvert_exporter": "python",
   "pygments_lexer": "ipython3",
   "version": "3.13.2"
  }
 },
 "nbformat": 4,
 "nbformat_minor": 5
}
