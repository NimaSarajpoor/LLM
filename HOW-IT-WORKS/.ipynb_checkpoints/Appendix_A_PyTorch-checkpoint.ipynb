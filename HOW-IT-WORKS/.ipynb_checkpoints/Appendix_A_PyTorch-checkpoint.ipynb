{
 "cells": [
  {
   "cell_type": "markdown",
   "id": "2a1b0d07-834d-4433-b546-27eb1319a00c",
   "metadata": {},
   "source": [
    "## Install `torch`\n",
    "link: https://pytorch.org"
   ]
  },
  {
   "cell_type": "markdown",
   "id": "7486a9b0-2fbb-4c07-b670-15d885eea030",
   "metadata": {},
   "source": [
    "**As a side note:** <br>\n",
    "You may want to check out the following cloud platforms:\n",
    "* AWS\n",
    "* MS Azure\n",
    "* GCP\n",
    "* Lightning AI"
   ]
  },
  {
   "cell_type": "code",
   "execution_count": 5,
   "id": "f4322f11-4666-43c0-bfb1-5e78086f03be",
   "metadata": {},
   "outputs": [
    {
     "data": {
      "text/plain": [
       "'2.6.0'"
      ]
     },
     "execution_count": 5,
     "metadata": {},
     "output_type": "execute_result"
    }
   ],
   "source": [
    "import numpy as np\n",
    "import torch\n",
    "torch.__version__"
   ]
  },
  {
   "cell_type": "code",
   "execution_count": 2,
   "id": "47d67699-8a4c-4851-a826-ba072fee6729",
   "metadata": {},
   "outputs": [
    {
     "data": {
      "text/plain": [
       "False"
      ]
     },
     "execution_count": 2,
     "metadata": {},
     "output_type": "execute_result"
    }
   ],
   "source": [
    "torch.cuda.is_available()"
   ]
  },
  {
   "cell_type": "markdown",
   "id": "ec8252b1-cbba-4a9c-ba93-5f145393ed2b",
   "metadata": {},
   "source": [
    "It returns `False` in my mac as my GPU is not supported."
   ]
  },
  {
   "cell_type": "code",
   "execution_count": 4,
   "id": "926356cb-b687-44ed-a2cf-cc0d685ed9ba",
   "metadata": {},
   "outputs": [
    {
     "name": "stdout",
     "output_type": "stream",
     "text": [
      "True\n"
     ]
    }
   ],
   "source": [
    "# check if Apple Silicon Chip can accelerate PyTorch's computation\n",
    "print(torch.backends.mps.is_available())"
   ]
  },
  {
   "cell_type": "markdown",
   "id": "32c51d4b-0447-42f5-86f6-4e99d75fca1b",
   "metadata": {},
   "source": [
    "## Three main components of the PyTorch library\n",
    "\n",
    "(1) Tensors <br>\n",
    "(2) Automatic differentiation <br>\n",
    "(3) Deep Learning layers / pre-built model / etc <br>"
   ]
  },
  {
   "cell_type": "markdown",
   "id": "45161b25-c13f-425c-bc5a-aff093fb3113",
   "metadata": {},
   "source": [
    "## Tensors vs Numpy ndarray\n",
    "\n",
    "Tensors with rank n is like n-dim numpy array. Tensors have more features and they are supported for GPU's computation. Tensor with rank 0 is just a scalar."
   ]
  },
  {
   "cell_type": "code",
   "execution_count": 6,
   "id": "f3e4bf2b-c912-4cf4-9942-81f2d1814e87",
   "metadata": {},
   "outputs": [
    {
     "name": "stdout",
     "output_type": "stream",
     "text": [
      "==================================================\n",
      "data: \n",
      " 1\n",
      "type of out: \n",
      " <class 'torch.Tensor'>\n",
      "out: \n",
      " tensor(1)\n",
      "==================================================\n",
      "data: \n",
      " [2, 3, 4]\n",
      "type of out: \n",
      " <class 'torch.Tensor'>\n",
      "out: \n",
      " tensor([2, 3, 4])\n",
      "==================================================\n",
      "data: \n",
      " [[ 3  5]\n",
      " [ 0 -1]]\n",
      "type of out: \n",
      " <class 'torch.Tensor'>\n",
      "out: \n",
      " tensor([[ 3,  5],\n",
      "        [ 0, -1]])\n"
     ]
    }
   ],
   "source": [
    "# let's create some tensors!\n",
    "lst_of_data = [\n",
    "    1,\n",
    "    [2, 3, 4],\n",
    "    np.array([[3, 5],[0, -1]]),\n",
    "]\n",
    "\n",
    "for data in lst_of_data:\n",
    "    print('=' * 50)\n",
    "    print('data: \\n', data)\n",
    "    out = torch.tensor(data)\n",
    "    print('type of out: \\n', type(out))\n",
    "    print('out: \\n', out)"
   ]
  },
  {
   "cell_type": "code",
   "execution_count": 7,
   "id": "4f86a7dc-8169-4576-8e7b-ef450ddf52fd",
   "metadata": {},
   "outputs": [
    {
     "data": {
      "text/plain": [
       "tensor([[ 3,  5],\n",
       "        [ 0, -1]])"
      ]
     },
     "execution_count": 7,
     "metadata": {},
     "output_type": "execute_result"
    }
   ],
   "source": [
    "a = np.array([[3, 5],[0, -1]])\n",
    "a = torch.tensor(a)\n",
    "a"
   ]
  },
  {
   "cell_type": "code",
   "execution_count": 8,
   "id": "2a852313-c664-4c17-ace5-9b36a585fdef",
   "metadata": {},
   "outputs": [
    {
     "data": {
      "text/plain": [
       "torch.Size([2, 2])"
      ]
     },
     "execution_count": 8,
     "metadata": {},
     "output_type": "execute_result"
    }
   ],
   "source": [
    "a.shape"
   ]
  },
  {
   "cell_type": "code",
   "execution_count": 10,
   "id": "bccc681f-e4ce-407a-b07a-1b686bfb0f6c",
   "metadata": {},
   "outputs": [
    {
     "data": {
      "text/plain": [
       "tensor([[ 3],\n",
       "        [ 5],\n",
       "        [ 0],\n",
       "        [-1]])"
      ]
     },
     "execution_count": 10,
     "metadata": {},
     "output_type": "execute_result"
    }
   ],
   "source": [
    "a.view(4, -1)"
   ]
  },
  {
   "cell_type": "code",
   "execution_count": 14,
   "id": "3a6058e7-998d-4138-bf58-574c7aa67328",
   "metadata": {},
   "outputs": [
    {
     "data": {
      "text/plain": [
       "torch.Size([2, 2])"
      ]
     },
     "execution_count": 14,
     "metadata": {},
     "output_type": "execute_result"
    }
   ],
   "source": [
    "a.shape"
   ]
  },
  {
   "cell_type": "code",
   "execution_count": 15,
   "id": "14d57a62-ca0c-4118-9b48-9ceccf883c2d",
   "metadata": {},
   "outputs": [
    {
     "data": {
      "text/plain": [
       "tensor([[ 3,  5],\n",
       "        [ 0, -1]])"
      ]
     },
     "execution_count": 15,
     "metadata": {},
     "output_type": "execute_result"
    }
   ],
   "source": [
    "a"
   ]
  },
  {
   "cell_type": "code",
   "execution_count": 16,
   "id": "3494b5b8-c71a-4350-bb6e-e9266ee34c7f",
   "metadata": {},
   "outputs": [
    {
     "data": {
      "text/plain": [
       "tensor([[ 3,  0],\n",
       "        [ 5, -1]])"
      ]
     },
     "execution_count": 16,
     "metadata": {},
     "output_type": "execute_result"
    }
   ],
   "source": [
    "a.T"
   ]
  },
  {
   "cell_type": "markdown",
   "id": "bc6b436a-11f8-4afd-b1bc-f8bf4fb023a9",
   "metadata": {},
   "source": [
    "## Backward propagation in computation graph"
   ]
  },
  {
   "cell_type": "markdown",
   "id": "2b30c041-807d-46f0-baac-5db71cd8499a",
   "metadata": {},
   "source": [
    "A computation graph is a graph that represents a computation. For instance, y = a * x + 3 can be shown like:\n",
    "\n",
    "```mermaid\n",
    "flowchart LR\n",
    "\n",
    "A[a] --> C[*]\n",
    "B[x] --> C\n",
    "C --> C2[v]\n",
    "C2 --> E[+]\n",
    "D[3] --> E\n",
    "E --> F[y]\n",
    "```"
   ]
  },
  {
   "cell_type": "markdown",
   "id": "a28d81b7-f618-4f18-b53c-d7d34904d641",
   "metadata": {},
   "source": [
    "To find out the impact of change in input on output, we can take the derivative $\\frac{\\partial{y}}{\\partial{x}}$. According to graph, the variable `y` depends on `v`, and `v` depends on `x`. So, we can use the chain rule:\n",
    "\n",
    "$\\frac{\\partial{y}}{\\partial{x}} = \\frac{\\partial{y}}{\\partial{v}} \\times \\frac{\\partial{v}}{\\partial{x}}$"
   ]
  },
  {
   "cell_type": "markdown",
   "id": "5b874c73-7a7a-49df-b786-2b7153d91790",
   "metadata": {},
   "source": [
    "So, if an algorithm keeps updating those derivatives, I can quickly compute the new value, and plug them into the equation above to compute $\\frac{\\partial{y}}{\\partial{x}}$"
   ]
  },
  {
   "cell_type": "markdown",
   "id": "260239ad-50d5-4017-b722-6ad7fc8eb70e",
   "metadata": {},
   "source": [
    "**NOTE:** For more details, you may check out the Andrew NG's Deep Learning course in coursera."
   ]
  },
  {
   "cell_type": "markdown",
   "id": "2840a310-bba8-4728-969a-6c5535388f3f",
   "metadata": {},
   "source": [
    "`PyTorch` has a high-level method `.backward` which does all those good stuff for us! The author showed it for a simple logistic regression:"
   ]
  },
  {
   "cell_type": "code",
   "execution_count": 19,
   "id": "7072b5f2-2e1e-4e9d-a0fd-f14df6f3692a",
   "metadata": {},
   "outputs": [],
   "source": [
    "# logistic regression\n",
    "import torch.nn.functional as F\n",
    "\n",
    "y = torch.tensor([1.0])\n",
    "x1 = torch.tensor([1.1])\n",
    "w1 = torch.tensor([2.2], requires_grad=True)\n",
    "b = torch.tensor([0.0], requires_grad=True)\n",
    "z = x1 * w1 + b\n",
    "a = torch.sigmoid(z)\n",
    "loss = F.binary_cross_entropy(a, y)"
   ]
  },
  {
   "cell_type": "code",
   "execution_count": 20,
   "id": "24749fd8-16eb-40b0-bd9e-9daaebbf3b53",
   "metadata": {},
   "outputs": [
    {
     "name": "stdout",
     "output_type": "stream",
     "text": [
      "gradient of w1:  tensor([-0.0898])\n",
      "gradient of b:  tensor([-0.0817])\n"
     ]
    }
   ],
   "source": [
    "loss.backward()  # compute gradient of all leaf nodes that require_grad==True (?)\n",
    "\n",
    "print('gradient of w1: ', w1.grad)\n",
    "print('gradient of b: ', b.grad)"
   ]
  },
  {
   "cell_type": "markdown",
   "id": "c2c6df82-a14e-43ad-914d-99d751a31b5d",
   "metadata": {},
   "source": [
    "## Implementing multi-layer NN"
   ]
  },
  {
   "cell_type": "code",
   "execution_count": null,
   "id": "42ea1dc5-a8c4-40ce-98ed-fc8bfbef02de",
   "metadata": {},
   "outputs": [],
   "source": [
    "class NeuralNetwork(torch.nn.Module):\n",
    "    def __init__(self, n_inputs, n_outputs):\n",
    "        \"\"\"\n",
    "        Parameters\n",
    "        ----------\n",
    "        n_inputs : int\n",
    "            The number of nodes in the input layer\n",
    "\n",
    "        n_outputs : int\n",
    "            The number of nodes in the output layer\n",
    "        \"\"\"\n",
    "        super().__init__()\n",
    "        self.layers = torch.nn.Sequential(\n",
    "            # 1st hidden layer\n",
    "            torch.nn.Linear(n_inputs, 30),\n",
    "            torch.nn.ReLU(),\n",
    "            \n",
    "            # 2nd hidden layer\n",
    "            torch.nn.Linear(30, 20),\n",
    "            torch.nn.ReLU(),\n",
    "            \n",
    "            # output layer\n",
    "            torch.nn.Linear(20, n_outputs),\n",
    "        )\n",
    "\n",
    "\n",
    "    def forward(self, x):\n",
    "        logits = self.layers(x)\n",
    "        return logits\n",
    "        "
   ]
  }
 ],
 "metadata": {
  "kernelspec": {
   "display_name": "Python 3 (ipykernel)",
   "language": "python",
   "name": "python3"
  },
  "language_info": {
   "codemirror_mode": {
    "name": "ipython",
    "version": 3
   },
   "file_extension": ".py",
   "mimetype": "text/x-python",
   "name": "python",
   "nbconvert_exporter": "python",
   "pygments_lexer": "ipython3",
   "version": "3.13.2"
  }
 },
 "nbformat": 4,
 "nbformat_minor": 5
}
